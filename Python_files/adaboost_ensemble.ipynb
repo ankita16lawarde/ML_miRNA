import pandas as pd
import numpy as np
from sklearn.model_selection import train_test_split
from sklearn.ensemble import AdaBoostClassifier
from sklearn.tree import DecisionTreeClassifier
from sklearn.metrics import accuracy_score
import matplotlib.pyplot as plt
from sklearn.model_selection import StratifiedKFold, cross_validate
from imblearn.pipeline import Pipeline
from sklearn.ensemble import VotingClassifier
from sklearn.ensemble import RandomForestClassifier
from sklearn.svm import SVC
from imblearn.over_sampling import SMOTE
import joblib

df = pd.read_csv("quant_norm_597_reduced_mat.csv")
#df.shape
#df['response']
#df.shape
df.set_index('Unnamed: 0', inplace=True)
X = df.iloc[:,:-1]
y = df['response']
#X.shape
#y.shape
#y

# Split the data into training and testing sets
X_train, X_test, y_train, y_test = train_test_split(
    X, y, test_size=0.2, random_state=42
)
ada = AdaBoostClassifier(base_estimator = DecisionTreeClassifier(max_depth=3, min_samples_split=10, min_samples_leaf=5),
                         n_estimators=1000,
                         learning_rate=0.8,
                         algorithm="SAMME")


smote = SMOTE(random_state=42)
pipeline = Pipeline(steps=[('smote', smote), ('ada', ada)])
skf =StratifiedKFold(n_splits=5, shuffle=True, random_state=42)

# Perform cross-validation with CV = 10
cv_scores = cross_validate(pipeline, X_train, y_train, cv=skf, scoring ='accuracy', n_jobs=-1, return_estimator=True, return_train_score=True)

# Save the model to a file
joblib.dump(cv_scores, 'adaboost_597QNmodel.pkl')

